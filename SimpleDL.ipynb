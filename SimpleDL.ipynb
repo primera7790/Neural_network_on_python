{
  "nbformat": 4,
  "nbformat_minor": 0,
  "metadata": {
    "colab": {
      "provenance": []
    },
    "kernelspec": {
      "name": "python3",
      "display_name": "Python 3"
    },
    "language_info": {
      "name": "python"
    },
    "widgets": {
      "application/vnd.jupyter.widget-state+json": {
        "df052aec7d3c4a4a964d9da34580990a": {
          "model_module": "@jupyter-widgets/controls",
          "model_name": "HBoxModel",
          "model_module_version": "1.5.0",
          "state": {
            "_dom_classes": [],
            "_model_module": "@jupyter-widgets/controls",
            "_model_module_version": "1.5.0",
            "_model_name": "HBoxModel",
            "_view_count": null,
            "_view_module": "@jupyter-widgets/controls",
            "_view_module_version": "1.5.0",
            "_view_name": "HBoxView",
            "box_style": "",
            "children": [
              "IPY_MODEL_1e18043720de4ef6bab5609f15e13421",
              "IPY_MODEL_fa0fc3dc316a49f9951a71059c8b3a7b",
              "IPY_MODEL_eeb079d4b73642e6a5344f742ec1bfc6"
            ],
            "layout": "IPY_MODEL_2a13f714b6244b4d8e58a1cf5e78222e"
          }
        },
        "1e18043720de4ef6bab5609f15e13421": {
          "model_module": "@jupyter-widgets/controls",
          "model_name": "HTMLModel",
          "model_module_version": "1.5.0",
          "state": {
            "_dom_classes": [],
            "_model_module": "@jupyter-widgets/controls",
            "_model_module_version": "1.5.0",
            "_model_name": "HTMLModel",
            "_view_count": null,
            "_view_module": "@jupyter-widgets/controls",
            "_view_module_version": "1.5.0",
            "_view_name": "HTMLView",
            "description": "",
            "description_tooltip": null,
            "layout": "IPY_MODEL_e630234de05e47d5a7a76b870b47c141",
            "placeholder": "​",
            "style": "IPY_MODEL_f4c41edd9fbb430dbfe845bacb119d7c",
            "value": "100%"
          }
        },
        "fa0fc3dc316a49f9951a71059c8b3a7b": {
          "model_module": "@jupyter-widgets/controls",
          "model_name": "FloatProgressModel",
          "model_module_version": "1.5.0",
          "state": {
            "_dom_classes": [],
            "_model_module": "@jupyter-widgets/controls",
            "_model_module_version": "1.5.0",
            "_model_name": "FloatProgressModel",
            "_view_count": null,
            "_view_module": "@jupyter-widgets/controls",
            "_view_module_version": "1.5.0",
            "_view_name": "ProgressView",
            "bar_style": "success",
            "description": "",
            "description_tooltip": null,
            "layout": "IPY_MODEL_b07c1ae9e5a84b69b410e454e58736a9",
            "max": 200,
            "min": 0,
            "orientation": "horizontal",
            "style": "IPY_MODEL_4c6bf423e2fc4cbaabe88f47bfd1c187",
            "value": 200
          }
        },
        "eeb079d4b73642e6a5344f742ec1bfc6": {
          "model_module": "@jupyter-widgets/controls",
          "model_name": "HTMLModel",
          "model_module_version": "1.5.0",
          "state": {
            "_dom_classes": [],
            "_model_module": "@jupyter-widgets/controls",
            "_model_module_version": "1.5.0",
            "_model_name": "HTMLModel",
            "_view_count": null,
            "_view_module": "@jupyter-widgets/controls",
            "_view_module_version": "1.5.0",
            "_view_name": "HTMLView",
            "description": "",
            "description_tooltip": null,
            "layout": "IPY_MODEL_3fab766d1f4345558452f70c6ab8b118",
            "placeholder": "​",
            "style": "IPY_MODEL_c7b65c4c124c47dca5da46b6a9138677",
            "value": " 200/200 [1:35:05&lt;00:00, 28.33s/it]"
          }
        },
        "2a13f714b6244b4d8e58a1cf5e78222e": {
          "model_module": "@jupyter-widgets/base",
          "model_name": "LayoutModel",
          "model_module_version": "1.2.0",
          "state": {
            "_model_module": "@jupyter-widgets/base",
            "_model_module_version": "1.2.0",
            "_model_name": "LayoutModel",
            "_view_count": null,
            "_view_module": "@jupyter-widgets/base",
            "_view_module_version": "1.2.0",
            "_view_name": "LayoutView",
            "align_content": null,
            "align_items": null,
            "align_self": null,
            "border": null,
            "bottom": null,
            "display": null,
            "flex": null,
            "flex_flow": null,
            "grid_area": null,
            "grid_auto_columns": null,
            "grid_auto_flow": null,
            "grid_auto_rows": null,
            "grid_column": null,
            "grid_gap": null,
            "grid_row": null,
            "grid_template_areas": null,
            "grid_template_columns": null,
            "grid_template_rows": null,
            "height": null,
            "justify_content": null,
            "justify_items": null,
            "left": null,
            "margin": null,
            "max_height": null,
            "max_width": null,
            "min_height": null,
            "min_width": null,
            "object_fit": null,
            "object_position": null,
            "order": null,
            "overflow": null,
            "overflow_x": null,
            "overflow_y": null,
            "padding": null,
            "right": null,
            "top": null,
            "visibility": null,
            "width": null
          }
        },
        "e630234de05e47d5a7a76b870b47c141": {
          "model_module": "@jupyter-widgets/base",
          "model_name": "LayoutModel",
          "model_module_version": "1.2.0",
          "state": {
            "_model_module": "@jupyter-widgets/base",
            "_model_module_version": "1.2.0",
            "_model_name": "LayoutModel",
            "_view_count": null,
            "_view_module": "@jupyter-widgets/base",
            "_view_module_version": "1.2.0",
            "_view_name": "LayoutView",
            "align_content": null,
            "align_items": null,
            "align_self": null,
            "border": null,
            "bottom": null,
            "display": null,
            "flex": null,
            "flex_flow": null,
            "grid_area": null,
            "grid_auto_columns": null,
            "grid_auto_flow": null,
            "grid_auto_rows": null,
            "grid_column": null,
            "grid_gap": null,
            "grid_row": null,
            "grid_template_areas": null,
            "grid_template_columns": null,
            "grid_template_rows": null,
            "height": null,
            "justify_content": null,
            "justify_items": null,
            "left": null,
            "margin": null,
            "max_height": null,
            "max_width": null,
            "min_height": null,
            "min_width": null,
            "object_fit": null,
            "object_position": null,
            "order": null,
            "overflow": null,
            "overflow_x": null,
            "overflow_y": null,
            "padding": null,
            "right": null,
            "top": null,
            "visibility": null,
            "width": null
          }
        },
        "f4c41edd9fbb430dbfe845bacb119d7c": {
          "model_module": "@jupyter-widgets/controls",
          "model_name": "DescriptionStyleModel",
          "model_module_version": "1.5.0",
          "state": {
            "_model_module": "@jupyter-widgets/controls",
            "_model_module_version": "1.5.0",
            "_model_name": "DescriptionStyleModel",
            "_view_count": null,
            "_view_module": "@jupyter-widgets/base",
            "_view_module_version": "1.2.0",
            "_view_name": "StyleView",
            "description_width": ""
          }
        },
        "b07c1ae9e5a84b69b410e454e58736a9": {
          "model_module": "@jupyter-widgets/base",
          "model_name": "LayoutModel",
          "model_module_version": "1.2.0",
          "state": {
            "_model_module": "@jupyter-widgets/base",
            "_model_module_version": "1.2.0",
            "_model_name": "LayoutModel",
            "_view_count": null,
            "_view_module": "@jupyter-widgets/base",
            "_view_module_version": "1.2.0",
            "_view_name": "LayoutView",
            "align_content": null,
            "align_items": null,
            "align_self": null,
            "border": null,
            "bottom": null,
            "display": null,
            "flex": null,
            "flex_flow": null,
            "grid_area": null,
            "grid_auto_columns": null,
            "grid_auto_flow": null,
            "grid_auto_rows": null,
            "grid_column": null,
            "grid_gap": null,
            "grid_row": null,
            "grid_template_areas": null,
            "grid_template_columns": null,
            "grid_template_rows": null,
            "height": null,
            "justify_content": null,
            "justify_items": null,
            "left": null,
            "margin": null,
            "max_height": null,
            "max_width": null,
            "min_height": null,
            "min_width": null,
            "object_fit": null,
            "object_position": null,
            "order": null,
            "overflow": null,
            "overflow_x": null,
            "overflow_y": null,
            "padding": null,
            "right": null,
            "top": null,
            "visibility": null,
            "width": null
          }
        },
        "4c6bf423e2fc4cbaabe88f47bfd1c187": {
          "model_module": "@jupyter-widgets/controls",
          "model_name": "ProgressStyleModel",
          "model_module_version": "1.5.0",
          "state": {
            "_model_module": "@jupyter-widgets/controls",
            "_model_module_version": "1.5.0",
            "_model_name": "ProgressStyleModel",
            "_view_count": null,
            "_view_module": "@jupyter-widgets/base",
            "_view_module_version": "1.2.0",
            "_view_name": "StyleView",
            "bar_color": null,
            "description_width": ""
          }
        },
        "3fab766d1f4345558452f70c6ab8b118": {
          "model_module": "@jupyter-widgets/base",
          "model_name": "LayoutModel",
          "model_module_version": "1.2.0",
          "state": {
            "_model_module": "@jupyter-widgets/base",
            "_model_module_version": "1.2.0",
            "_model_name": "LayoutModel",
            "_view_count": null,
            "_view_module": "@jupyter-widgets/base",
            "_view_module_version": "1.2.0",
            "_view_name": "LayoutView",
            "align_content": null,
            "align_items": null,
            "align_self": null,
            "border": null,
            "bottom": null,
            "display": null,
            "flex": null,
            "flex_flow": null,
            "grid_area": null,
            "grid_auto_columns": null,
            "grid_auto_flow": null,
            "grid_auto_rows": null,
            "grid_column": null,
            "grid_gap": null,
            "grid_row": null,
            "grid_template_areas": null,
            "grid_template_columns": null,
            "grid_template_rows": null,
            "height": null,
            "justify_content": null,
            "justify_items": null,
            "left": null,
            "margin": null,
            "max_height": null,
            "max_width": null,
            "min_height": null,
            "min_width": null,
            "object_fit": null,
            "object_position": null,
            "order": null,
            "overflow": null,
            "overflow_x": null,
            "overflow_y": null,
            "padding": null,
            "right": null,
            "top": null,
            "visibility": null,
            "width": null
          }
        },
        "c7b65c4c124c47dca5da46b6a9138677": {
          "model_module": "@jupyter-widgets/controls",
          "model_name": "DescriptionStyleModel",
          "model_module_version": "1.5.0",
          "state": {
            "_model_module": "@jupyter-widgets/controls",
            "_model_module_version": "1.5.0",
            "_model_name": "DescriptionStyleModel",
            "_view_count": null,
            "_view_module": "@jupyter-widgets/base",
            "_view_module_version": "1.2.0",
            "_view_name": "StyleView",
            "description_width": ""
          }
        },
        "65413178fefe4be4ad3c29c215f7ee6e": {
          "model_module": "@jupyter-widgets/controls",
          "model_name": "HBoxModel",
          "model_module_version": "1.5.0",
          "state": {
            "_dom_classes": [],
            "_model_module": "@jupyter-widgets/controls",
            "_model_module_version": "1.5.0",
            "_model_name": "HBoxModel",
            "_view_count": null,
            "_view_module": "@jupyter-widgets/controls",
            "_view_module_version": "1.5.0",
            "_view_name": "HBoxView",
            "box_style": "",
            "children": [
              "IPY_MODEL_7ba9e177f71a44a787e75bdd96b22631",
              "IPY_MODEL_96bed4eb05f048f7bb542ffb8e8e5a85",
              "IPY_MODEL_b51d995aad264a7d9fceb938d0febd83"
            ],
            "layout": "IPY_MODEL_dcdde5261e024310afaa6167a834f111"
          }
        },
        "7ba9e177f71a44a787e75bdd96b22631": {
          "model_module": "@jupyter-widgets/controls",
          "model_name": "HTMLModel",
          "model_module_version": "1.5.0",
          "state": {
            "_dom_classes": [],
            "_model_module": "@jupyter-widgets/controls",
            "_model_module_version": "1.5.0",
            "_model_name": "HTMLModel",
            "_view_count": null,
            "_view_module": "@jupyter-widgets/controls",
            "_view_module_version": "1.5.0",
            "_view_name": "HTMLView",
            "description": "",
            "description_tooltip": null,
            "layout": "IPY_MODEL_a24a6f96b8754ddb8d6afac87de4c5a7",
            "placeholder": "​",
            "style": "IPY_MODEL_803940a8d5654c75804d31c5a6f5b237",
            "value": "100%"
          }
        },
        "96bed4eb05f048f7bb542ffb8e8e5a85": {
          "model_module": "@jupyter-widgets/controls",
          "model_name": "FloatProgressModel",
          "model_module_version": "1.5.0",
          "state": {
            "_dom_classes": [],
            "_model_module": "@jupyter-widgets/controls",
            "_model_module_version": "1.5.0",
            "_model_name": "FloatProgressModel",
            "_view_count": null,
            "_view_module": "@jupyter-widgets/controls",
            "_view_module_version": "1.5.0",
            "_view_name": "ProgressView",
            "bar_style": "success",
            "description": "",
            "description_tooltip": null,
            "layout": "IPY_MODEL_a07ceddd90384f3abf0ff4372e5d76d1",
            "max": 313,
            "min": 0,
            "orientation": "horizontal",
            "style": "IPY_MODEL_74b7bcdafbbf4cb086cb49e676e6bbbc",
            "value": 313
          }
        },
        "b51d995aad264a7d9fceb938d0febd83": {
          "model_module": "@jupyter-widgets/controls",
          "model_name": "HTMLModel",
          "model_module_version": "1.5.0",
          "state": {
            "_dom_classes": [],
            "_model_module": "@jupyter-widgets/controls",
            "_model_module_version": "1.5.0",
            "_model_name": "HTMLModel",
            "_view_count": null,
            "_view_module": "@jupyter-widgets/controls",
            "_view_module_version": "1.5.0",
            "_view_name": "HTMLView",
            "description": "",
            "description_tooltip": null,
            "layout": "IPY_MODEL_c685c5b2fa874cd6ba025491638a5513",
            "placeholder": "​",
            "style": "IPY_MODEL_ff67655487d348cbbd0287a53f45ff3e",
            "value": " 313/313 [00:04&lt;00:00, 88.49it/s]"
          }
        },
        "dcdde5261e024310afaa6167a834f111": {
          "model_module": "@jupyter-widgets/base",
          "model_name": "LayoutModel",
          "model_module_version": "1.2.0",
          "state": {
            "_model_module": "@jupyter-widgets/base",
            "_model_module_version": "1.2.0",
            "_model_name": "LayoutModel",
            "_view_count": null,
            "_view_module": "@jupyter-widgets/base",
            "_view_module_version": "1.2.0",
            "_view_name": "LayoutView",
            "align_content": null,
            "align_items": null,
            "align_self": null,
            "border": null,
            "bottom": null,
            "display": null,
            "flex": null,
            "flex_flow": null,
            "grid_area": null,
            "grid_auto_columns": null,
            "grid_auto_flow": null,
            "grid_auto_rows": null,
            "grid_column": null,
            "grid_gap": null,
            "grid_row": null,
            "grid_template_areas": null,
            "grid_template_columns": null,
            "grid_template_rows": null,
            "height": null,
            "justify_content": null,
            "justify_items": null,
            "left": null,
            "margin": null,
            "max_height": null,
            "max_width": null,
            "min_height": null,
            "min_width": null,
            "object_fit": null,
            "object_position": null,
            "order": null,
            "overflow": null,
            "overflow_x": null,
            "overflow_y": null,
            "padding": null,
            "right": null,
            "top": null,
            "visibility": null,
            "width": null
          }
        },
        "a24a6f96b8754ddb8d6afac87de4c5a7": {
          "model_module": "@jupyter-widgets/base",
          "model_name": "LayoutModel",
          "model_module_version": "1.2.0",
          "state": {
            "_model_module": "@jupyter-widgets/base",
            "_model_module_version": "1.2.0",
            "_model_name": "LayoutModel",
            "_view_count": null,
            "_view_module": "@jupyter-widgets/base",
            "_view_module_version": "1.2.0",
            "_view_name": "LayoutView",
            "align_content": null,
            "align_items": null,
            "align_self": null,
            "border": null,
            "bottom": null,
            "display": null,
            "flex": null,
            "flex_flow": null,
            "grid_area": null,
            "grid_auto_columns": null,
            "grid_auto_flow": null,
            "grid_auto_rows": null,
            "grid_column": null,
            "grid_gap": null,
            "grid_row": null,
            "grid_template_areas": null,
            "grid_template_columns": null,
            "grid_template_rows": null,
            "height": null,
            "justify_content": null,
            "justify_items": null,
            "left": null,
            "margin": null,
            "max_height": null,
            "max_width": null,
            "min_height": null,
            "min_width": null,
            "object_fit": null,
            "object_position": null,
            "order": null,
            "overflow": null,
            "overflow_x": null,
            "overflow_y": null,
            "padding": null,
            "right": null,
            "top": null,
            "visibility": null,
            "width": null
          }
        },
        "803940a8d5654c75804d31c5a6f5b237": {
          "model_module": "@jupyter-widgets/controls",
          "model_name": "DescriptionStyleModel",
          "model_module_version": "1.5.0",
          "state": {
            "_model_module": "@jupyter-widgets/controls",
            "_model_module_version": "1.5.0",
            "_model_name": "DescriptionStyleModel",
            "_view_count": null,
            "_view_module": "@jupyter-widgets/base",
            "_view_module_version": "1.2.0",
            "_view_name": "StyleView",
            "description_width": ""
          }
        },
        "a07ceddd90384f3abf0ff4372e5d76d1": {
          "model_module": "@jupyter-widgets/base",
          "model_name": "LayoutModel",
          "model_module_version": "1.2.0",
          "state": {
            "_model_module": "@jupyter-widgets/base",
            "_model_module_version": "1.2.0",
            "_model_name": "LayoutModel",
            "_view_count": null,
            "_view_module": "@jupyter-widgets/base",
            "_view_module_version": "1.2.0",
            "_view_name": "LayoutView",
            "align_content": null,
            "align_items": null,
            "align_self": null,
            "border": null,
            "bottom": null,
            "display": null,
            "flex": null,
            "flex_flow": null,
            "grid_area": null,
            "grid_auto_columns": null,
            "grid_auto_flow": null,
            "grid_auto_rows": null,
            "grid_column": null,
            "grid_gap": null,
            "grid_row": null,
            "grid_template_areas": null,
            "grid_template_columns": null,
            "grid_template_rows": null,
            "height": null,
            "justify_content": null,
            "justify_items": null,
            "left": null,
            "margin": null,
            "max_height": null,
            "max_width": null,
            "min_height": null,
            "min_width": null,
            "object_fit": null,
            "object_position": null,
            "order": null,
            "overflow": null,
            "overflow_x": null,
            "overflow_y": null,
            "padding": null,
            "right": null,
            "top": null,
            "visibility": null,
            "width": null
          }
        },
        "74b7bcdafbbf4cb086cb49e676e6bbbc": {
          "model_module": "@jupyter-widgets/controls",
          "model_name": "ProgressStyleModel",
          "model_module_version": "1.5.0",
          "state": {
            "_model_module": "@jupyter-widgets/controls",
            "_model_module_version": "1.5.0",
            "_model_name": "ProgressStyleModel",
            "_view_count": null,
            "_view_module": "@jupyter-widgets/base",
            "_view_module_version": "1.2.0",
            "_view_name": "StyleView",
            "bar_color": null,
            "description_width": ""
          }
        },
        "c685c5b2fa874cd6ba025491638a5513": {
          "model_module": "@jupyter-widgets/base",
          "model_name": "LayoutModel",
          "model_module_version": "1.2.0",
          "state": {
            "_model_module": "@jupyter-widgets/base",
            "_model_module_version": "1.2.0",
            "_model_name": "LayoutModel",
            "_view_count": null,
            "_view_module": "@jupyter-widgets/base",
            "_view_module_version": "1.2.0",
            "_view_name": "LayoutView",
            "align_content": null,
            "align_items": null,
            "align_self": null,
            "border": null,
            "bottom": null,
            "display": null,
            "flex": null,
            "flex_flow": null,
            "grid_area": null,
            "grid_auto_columns": null,
            "grid_auto_flow": null,
            "grid_auto_rows": null,
            "grid_column": null,
            "grid_gap": null,
            "grid_row": null,
            "grid_template_areas": null,
            "grid_template_columns": null,
            "grid_template_rows": null,
            "height": null,
            "justify_content": null,
            "justify_items": null,
            "left": null,
            "margin": null,
            "max_height": null,
            "max_width": null,
            "min_height": null,
            "min_width": null,
            "object_fit": null,
            "object_position": null,
            "order": null,
            "overflow": null,
            "overflow_x": null,
            "overflow_y": null,
            "padding": null,
            "right": null,
            "top": null,
            "visibility": null,
            "width": null
          }
        },
        "ff67655487d348cbbd0287a53f45ff3e": {
          "model_module": "@jupyter-widgets/controls",
          "model_name": "DescriptionStyleModel",
          "model_module_version": "1.5.0",
          "state": {
            "_model_module": "@jupyter-widgets/controls",
            "_model_module_version": "1.5.0",
            "_model_name": "DescriptionStyleModel",
            "_view_count": null,
            "_view_module": "@jupyter-widgets/base",
            "_view_module_version": "1.2.0",
            "_view_name": "StyleView",
            "description_width": ""
          }
        }
      }
    }
  },
  "cells": [
    {
      "cell_type": "markdown",
      "source": [
        "## Полносвязная нейронная сеть с нуля\n",
        "\n",
        "##### Автор: Андрей Гришин"
      ],
      "metadata": {
        "id": "GHk2agIGtOuY"
      }
    },
    {
      "cell_type": "markdown",
      "source": [
        "> ### Подготовка данных\n",
        "\n",
        "\n",
        "Dataset: MNIST from PyTorch"
      ],
      "metadata": {
        "id": "CWXWhYWuuBGo"
      }
    },
    {
      "cell_type": "code",
      "source": [
        "import numpy as np\n",
        "\n",
        "from matplotlib import pyplot as plt\n",
        "\n",
        "import torch\n",
        "import torchvision\n",
        "from torchvision.datasets import MNIST\n",
        "\n",
        "from tqdm.auto import tqdm"
      ],
      "metadata": {
        "id": "qdYnbcFVtWnh"
      },
      "execution_count": 96,
      "outputs": []
    },
    {
      "cell_type": "code",
      "source": [
        "train_mnist_data = MNIST('.', train=True, transform=torchvision.transforms.ToTensor(), download=True)\n",
        "test_mnist_data = MNIST('.', train=False, transform=torchvision.transforms.ToTensor(), download=True)\n",
        "\n",
        "train_mnist_data.data = train_mnist_data.data.reshape(60000, 784)\n",
        "test_mnist_data.data = test_mnist_data.data.reshape(10000, 784)\n",
        "\n",
        "train_data_loader = torch.utils.data.DataLoader(\n",
        "    train_mnist_data,\n",
        "    batch_size=32,\n",
        "    shuffle=True,\n",
        "    num_workers=2\n",
        ")\n",
        "\n",
        "test_data_loader = torch.utils.data.DataLoader(\n",
        "    test_mnist_data,\n",
        "    batch_size=32,\n",
        "    shuffle=False,\n",
        "    num_workers=2\n",
        ")"
      ],
      "metadata": {
        "id": "jnHYHy5kwe15"
      },
      "execution_count": 97,
      "outputs": []
    },
    {
      "cell_type": "markdown",
      "source": [
        "> ### Написание класса нейросети\n",
        "*   Построение архитектуры\n",
        "*   Написание алгоритма\n",
        "\n",
        "\n"
      ],
      "metadata": {
        "id": "oHykjNWFt3yZ"
      }
    },
    {
      "cell_type": "code",
      "source": [
        "class SimpleDL():\n",
        "  def __init__(self):\n",
        "    self.num_input_layer = 784\n",
        "    self.num_hidden_layers = 3\n",
        "    self.num_neurons_on_layer = 100\n",
        "    self.num_output_layer = 10\n",
        "    self.batch_size = 32\n",
        "    self.num_epochs = 20\n",
        "    self.learning_rate = 0.01\n",
        "    '''\n",
        "    # self.weights_first = np.array([[]])     # матрица ('нейроны справа' х 'нейроны слева') 3х784\n",
        "    # self.weights_hidden = np.array([[[]]])    # тензор ('межслои' х 'нейроны справа' х 'нейроны слева') 0х3х3\n",
        "    # self.weights_last = np.array([[]])      # матрица ('нейроны справа' х 'нейроны слева') 10х3\n",
        "\n",
        "    # self.bias_first = np.array([[]])     # матрица-строка ('нейроны справа') 1х3\n",
        "    # self.bias_hidden = np.array([[]])    # матрица ('межслои' х 'нейроны справа') 0х3\n",
        "    # self.bias_last = np.array([[]])      # матрица-строка ('нейроны справа') 1х10\n",
        "\n",
        "    # self.input_hidden = np.array([[[]]])    # тензор ndim=3 ('слои' х 'объекты' х 'нейроны справа') 0х32х3\n",
        "    # self.input_last = np.array([[]])      # матрица ('объекты' х 'нейроны справа') 32х10\n",
        "\n",
        "    # self.output_first = np.array([[]])     # матрица ('объекты' х 'нейроны слева') 32х784\n",
        "    # self.output_hidden = np.array([[[]]])    # тензор ndim=3 ('слои' х 'объекты' х 'нейроны слева') 0х32х3\n",
        "\n",
        "    # self.gradient_weights_last = np.array([[]])    # матрица ('нейроны слева' х 'нейроны справа') 3х10\n",
        "    # self.gradient_bias_last = np.array([[]])       # матрица ('объекты' х 'нейроны справа') 32х10\n",
        "\n",
        "    # self.gradient_weights_hidden = np.array([[[]]])    # тензор ndim=3 ('межслои' х 'нейроны слева' х 'нейроны справа') 0х3х3\n",
        "    # self.gradient_bias_hidden = np.array([[[]]])        # тензор ndim=3 ('межслои' х 'объекты' х 'нейроны справа') 0х32х3\n",
        "\n",
        "    # self.gradient_weights_first = np.array([[]])    # матрица ('нейроны слева' х 'нейроны справа') 784х3\n",
        "    # self.gradient_bias_first = np.array([[]])       # матрица ('объекты' х 'нейроны справа') 32х3\n",
        "    '''\n",
        "    return\n",
        "\n",
        "  def linear(self, x, W, b):\n",
        "    linear_funtion = x @ W.T + b\n",
        "    return linear_funtion\n",
        "\n",
        "  def relu(self, input):\n",
        "    neurons_output = np.maximum(input, 0)\n",
        "    max_out = np.max(neurons_output, axis=1, keepdims=True)\n",
        "    max_out[max_out == 0] = 1\n",
        "    neurons_output_norm = neurons_output / max_out\n",
        "    return neurons_output_norm\n",
        "\n",
        "  def gradient_relu(self, input):\n",
        "    gradient = (input > 0).astype(float)\n",
        "    return gradient\n",
        "\n",
        "  def softmax(self, input):\n",
        "    input_exp = np.exp(input)\n",
        "    sum_exp = np.expand_dims(np.sum(input_exp, axis=1), axis=0).T\n",
        "    neurons_output = input_exp / sum_exp\n",
        "    return neurons_output\n",
        "\n",
        "  def loss_function(self, targets):\n",
        "    predictions_matrix = self.softmax(self.input_last)\n",
        "    target_predictions = predictions_matrix[np.arange(self.batch_size), targets]\n",
        "    error = -np.sum(np.log(target_predictions))\n",
        "    return error\n",
        "\n",
        "  def forward_pass(self, data):\n",
        "    self.input_hidden = np.expand_dims(self.linear(data, self.weights_first, self.bias_first), axis=0)\n",
        "    self.output_hidden = np.expand_dims(self.relu(self.input_hidden[0]), axis=0)\n",
        "\n",
        "    for step in range(self.hidden_steps):\n",
        "      self.input_hidden = np.append(self.input_hidden, np.expand_dims(self.linear(self.output_hidden[step], self.weights_hidden[step], self.bias_hidden[step]), axis=0), axis=0)\n",
        "      self.output_hidden = np.append(self.output_hidden, np.expand_dims(self.relu(self.input_hidden[step + 1]), axis=0), axis=0)\n",
        "\n",
        "    self.input_last = self.linear(self.output_hidden[-1], self.weights_last, self.bias_last)\n",
        "    return\n",
        "\n",
        "  def backprop(self, targets, steps):\n",
        "    predictions_matrix = self.softmax(self.input_last)\n",
        "    targets_matrix = np.zeros([self.batch_size, self.num_output_layer])\n",
        "    targets_matrix[np.arange(self.batch_size), targets] = 1\n",
        "\n",
        "    d_last_layer = predictions_matrix - targets_matrix\n",
        "    d_last_linear = d_last_layer @ self.weights_last\n",
        "    self.gradient_weights_last = self.output_hidden[-1].T @ d_last_layer\n",
        "    self.gradient_bias_last = d_last_layer\n",
        "\n",
        "    d_linear = d_last_linear\n",
        "    for step in range(steps):\n",
        "      d_activation = d_linear * self.gradient_relu(self.input_hidden[-(step + 1)])\n",
        "      d_linear = d_activation @ self.weights_hidden[-(step + 1)]\n",
        "      d_weights = self.output_hidden[-(step + 2)].T @ d_activation\n",
        "      d_bias = d_activation\n",
        "      if step == 0:\n",
        "        self.gradient_weights_hidden = np.expand_dims(d_weights, axis=0)\n",
        "        self.gradient_bias_hidden = np.expand_dims(d_bias, axis=0)\n",
        "      else:\n",
        "        self.gradient_weights_hidden = np.append(self.gradient_weights_hidden, np.expand_dims(d_weights, axis=0), axis=0)\n",
        "        self.gradient_bias_hidden = np.append(self.gradient_bias_hidden, np.expand_dims(d_bias, axis=0), axis=0)\n",
        "\n",
        "    d_first_activation = d_linear * self.gradient_relu(self.input_hidden[0])\n",
        "    self.gradient_weights_first = self.output_first.T @ d_first_activation\n",
        "    self.gradient_bias_first = d_first_activation\n",
        "    return\n",
        "\n",
        "  def update(self, learning_rate):\n",
        "    self.weights_first = self.weights_first - learning_rate * self.gradient_weights_first.T\n",
        "    self.bias_first = self.bias_first - learning_rate * np.sum(self.gradient_bias_first, axis=0)\n",
        "\n",
        "    for step in range(self.num_hidden_layers - 1):\n",
        "      self.weights_hidden[step] = self.weights_hidden[step] - learning_rate * self.gradient_weights_hidden[-(step + 1)].T\n",
        "      self.bias_hidden[step] = self.bias_hidden[step] - learning_rate * np.sum(self.gradient_bias_hidden[-(step + 1)], axis=0)\n",
        "\n",
        "    self.weights_last = self.weights_last - learning_rate * self.gradient_weights_last.T\n",
        "    self.bias_last = self.bias_last - learning_rate * np.sum(self.gradient_bias_last, axis=0)\n",
        "    return\n",
        "\n",
        "  def fit(self):\n",
        "    self.hidden_steps = self.num_hidden_layers - 1\n",
        "    self.weights_first = np.random.randn(self.num_neurons_on_layer, self.num_input_layer)\n",
        "    self.bias_first = np.expand_dims(np.random.randn(self.num_neurons_on_layer), axis=0)\n",
        "\n",
        "    for step in range(self.hidden_steps):\n",
        "      if step == 0:\n",
        "        self.weights_hidden = np.expand_dims(np.random.randn(self.num_neurons_on_layer, self.num_neurons_on_layer), axis=0)\n",
        "        self.bias_hidden = np.expand_dims(np.random.randn(self.num_neurons_on_layer), axis=0)\n",
        "      else:\n",
        "        self.weights_hidden = np.append(self.weights_hidden, np.expand_dims(np.random.randn(self.num_neurons_on_layer, self.num_neurons_on_layer), axis=0), axis=0)\n",
        "        self.bias_hidden = np.append(self.bias_hidden, np.expand_dims(np.random.randn(self.num_neurons_on_layer), axis=0), axis=0)\n",
        "\n",
        "    self.weights_last = np.random.randn(self.num_output_layer, self.num_neurons_on_layer)\n",
        "    self.bias_last = np.expand_dims(np.random.randn(self.num_output_layer), axis=0)\n",
        "\n",
        "    self.loss_list = list()\n",
        "    for epoch in tqdm(range(self.num_epochs)):\n",
        "      loss = 0\n",
        "      for batch in train_data_loader:\n",
        "        self.output_first = batch[0].numpy().squeeze()\n",
        "        targets = batch[1].numpy()\n",
        "\n",
        "        self.forward_pass(self.output_first)\n",
        "        self.backprop(targets, self.hidden_steps)\n",
        "        self.update(self.learning_rate)\n",
        "\n",
        "        loss += self.loss_function(targets)\n",
        "      self.loss_list.append(loss)\n",
        "      if epoch % (self.num_epochs / 10) == 0:\n",
        "        print(f'Epoch: {epoch}', '\\n', f'Loss: {loss}')\n",
        "        print('-------------------------------------------------------------------------')\n",
        "    print(f'Actual loss is {loss}')\n",
        "    return\n",
        "\n",
        "  def predict(self, data):\n",
        "    self.forward_pass(data)\n",
        "    predictions = self.softmax(self.input_last)\n",
        "    return predictions"
      ],
      "metadata": {
        "id": "KAZyEEfe2nZj"
      },
      "execution_count": 104,
      "outputs": []
    },
    {
      "cell_type": "markdown",
      "source": [
        "> ### Настройка гиперпараметров\n",
        "\n"
      ],
      "metadata": {
        "id": "nMKLM_Z3Crtv"
      }
    },
    {
      "cell_type": "code",
      "source": [
        "classifier = SimpleDL()\n",
        "classifier.num_input_layer = 784\n",
        "classifier.num_hidden_layers = 3\n",
        "classifier.num_neurons_on_layer = 100\n",
        "classifier.num_output_layer = 10\n",
        "classifier.batch_size = 32\n",
        "classifier.num_epochs = 200\n",
        "classifier.learning_rate = 0.01"
      ],
      "metadata": {
        "id": "VvQX9C78CpYh"
      },
      "execution_count": 105,
      "outputs": []
    },
    {
      "cell_type": "markdown",
      "source": [
        "> ### Обучение нейросети\n",
        "\n"
      ],
      "metadata": {
        "id": "vRN-GgK1DYTm"
      }
    },
    {
      "cell_type": "code",
      "source": [
        "classifier.fit()"
      ],
      "metadata": {
        "colab": {
          "base_uri": "https://localhost:8080/",
          "height": 621,
          "referenced_widgets": [
            "df052aec7d3c4a4a964d9da34580990a",
            "1e18043720de4ef6bab5609f15e13421",
            "fa0fc3dc316a49f9951a71059c8b3a7b",
            "eeb079d4b73642e6a5344f742ec1bfc6",
            "2a13f714b6244b4d8e58a1cf5e78222e",
            "e630234de05e47d5a7a76b870b47c141",
            "f4c41edd9fbb430dbfe845bacb119d7c",
            "b07c1ae9e5a84b69b410e454e58736a9",
            "4c6bf423e2fc4cbaabe88f47bfd1c187",
            "3fab766d1f4345558452f70c6ab8b118",
            "c7b65c4c124c47dca5da46b6a9138677"
          ]
        },
        "id": "dd4TRiB75USD",
        "outputId": "a9a18add-23f4-4926-fbbe-710aa8ca11a4"
      },
      "execution_count": 106,
      "outputs": [
        {
          "output_type": "display_data",
          "data": {
            "text/plain": [
              "  0%|          | 0/200 [00:00<?, ?it/s]"
            ],
            "application/vnd.jupyter.widget-view+json": {
              "version_major": 2,
              "version_minor": 0,
              "model_id": "df052aec7d3c4a4a964d9da34580990a"
            }
          },
          "metadata": {}
        },
        {
          "output_type": "stream",
          "name": "stdout",
          "text": [
            "Epoch: 0 \n",
            " Loss: 29441.076487583556\n",
            "-------------------------------------------------------------------------\n",
            "Epoch: 20 \n",
            " Loss: 5915.00272970576\n",
            "-------------------------------------------------------------------------\n",
            "Epoch: 40 \n",
            " Loss: 4173.86301210069\n",
            "-------------------------------------------------------------------------\n",
            "Epoch: 60 \n",
            " Loss: 3153.410403054957\n",
            "-------------------------------------------------------------------------\n",
            "Epoch: 80 \n",
            " Loss: 2446.482182764871\n",
            "-------------------------------------------------------------------------\n",
            "Epoch: 100 \n",
            " Loss: 2071.114682467285\n",
            "-------------------------------------------------------------------------\n",
            "Epoch: 120 \n",
            " Loss: 1670.2015481548447\n",
            "-------------------------------------------------------------------------\n",
            "Epoch: 140 \n",
            " Loss: 1383.3024771132723\n",
            "-------------------------------------------------------------------------\n",
            "Epoch: 160 \n",
            " Loss: 1150.358129855827\n",
            "-------------------------------------------------------------------------\n",
            "Epoch: 180 \n",
            " Loss: 979.75699455109\n",
            "-------------------------------------------------------------------------\n",
            "Actual loss is 849.6915695244498\n"
          ]
        }
      ]
    },
    {
      "cell_type": "markdown",
      "source": [
        "> ### Визуализация изменения ошибки с каждой эпохой"
      ],
      "metadata": {
        "id": "vYZg30YMD83K"
      }
    },
    {
      "cell_type": "code",
      "source": [
        "plt.plot(classifier.loss_list)\n",
        "plt.title(f'Loss value per epoch')"
      ],
      "metadata": {
        "colab": {
          "base_uri": "https://localhost:8080/",
          "height": 470
        },
        "id": "ZUiBUrutEdXr",
        "outputId": "8926e2fc-da9d-4dca-e26f-043657fdbee0"
      },
      "execution_count": 107,
      "outputs": [
        {
          "output_type": "execute_result",
          "data": {
            "text/plain": [
              "Text(0.5, 1.0, 'Loss value per epoch')"
            ]
          },
          "metadata": {},
          "execution_count": 107
        },
        {
          "output_type": "display_data",
          "data": {
            "text/plain": [
              "<Figure size 640x480 with 1 Axes>"
            ],
            "image/png": "[encoded data removed]"
          },
          "metadata": {}
        }
      ]
    },
    {
      "cell_type": "markdown",
      "source": [
        "> ### Оценка точности предсказаний\n",
        "\n"
      ],
      "metadata": {
        "id": "gPRwul1BFXsG"
      }
    },
    {
      "cell_type": "code",
      "source": [
        "num_test_objects = len(test_mnist_data.targets)\n",
        "miss_count = 0\n",
        "for batch in tqdm(test_data_loader):\n",
        "  data = batch[0].numpy().squeeze()\n",
        "  targets = batch[1].numpy()\n",
        "  predictions_matrix = classifier.predict(data)\n",
        "  predictions = np.argmax(predictions_matrix, axis=1)\n",
        "  miss_count += np.sum((targets != predictions).astype(float))\n",
        "print(f'Accuracy: {(num_test_objects - miss_count) / num_test_objects}')"
      ],
      "metadata": {
        "colab": {
          "base_uri": "https://localhost:8080/",
          "height": 67,
          "referenced_widgets": [
            "65413178fefe4be4ad3c29c215f7ee6e",
            "7ba9e177f71a44a787e75bdd96b22631",
            "96bed4eb05f048f7bb542ffb8e8e5a85",
            "b51d995aad264a7d9fceb938d0febd83",
            "dcdde5261e024310afaa6167a834f111",
            "a24a6f96b8754ddb8d6afac87de4c5a7",
            "803940a8d5654c75804d31c5a6f5b237",
            "a07ceddd90384f3abf0ff4372e5d76d1",
            "74b7bcdafbbf4cb086cb49e676e6bbbc",
            "c685c5b2fa874cd6ba025491638a5513",
            "ff67655487d348cbbd0287a53f45ff3e"
          ]
        },
        "id": "_zzxsbZ9FzGF",
        "outputId": "022e4112-bb8e-48b7-d092-f4bb5ddcdbfb"
      },
      "execution_count": 109,
      "outputs": [
        {
          "output_type": "display_data",
          "data": {
            "text/plain": [
              "  0%|          | 0/313 [00:00<?, ?it/s]"
            ],
            "application/vnd.jupyter.widget-view+json": {
              "version_major": 2,
              "version_minor": 0,
              "model_id": "65413178fefe4be4ad3c29c215f7ee6e"
            }
          },
          "metadata": {}
        },
        {
          "output_type": "stream",
          "name": "stdout",
          "text": [
            "Accuracy: 0.9705\n"
          ]
        }
      ]
    }
  ]
}
